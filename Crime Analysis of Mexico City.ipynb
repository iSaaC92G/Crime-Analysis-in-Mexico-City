{
    "nbformat_minor": 1, 
    "cells": [
        {
            "execution_count": 1, 
            "cell_type": "code", 
            "metadata": {}, 
            "outputs": [], 
            "source": "# !conda install -c conda-forge folium=0.10.0 geopy=1.20.0 --yes\nfrom botocore.client import Config\nfrom geopy.geocoders import Nominatim\nfrom sklearn.cluster import KMeans\nimport folium\nimport ibm_boto3\nimport json\nimport matplotlib.cm as cm\nimport matplotlib.colors as colors\nimport matplotlib.pyplot as plt\nimport numpy as np\nimport pandas as pd\nimport requests\nimport types"
        }, 
        {
            "execution_count": null, 
            "cell_type": "code", 
            "metadata": {}, 
            "outputs": [], 
            "source": ""
        }, 
        {
            "execution_count": null, 
            "cell_type": "code", 
            "metadata": {}, 
            "outputs": [], 
            "source": "# The code was removed by Watson Studio for sharing."
        }, 
        {
            "source": "Retrieving Mexico City's colonies data as a dataframe", 
            "cell_type": "markdown", 
            "metadata": {}
        }, 
        {
            "execution_count": null, 
            "cell_type": "code", 
            "metadata": {}, 
            "outputs": [], 
            "source": "def __iter__(self): return 0\n\nbody = client_c00e74e766a148bf886ec060f0b9c13a.get_object(Bucket='fashionproject-donotdelete-pr-mv2ccdtjv6sbh4',Key='colonias_cdmx_2019.csv')['Body']\n# add missing __iter__ method, so pandas accepts body as file-like object\nif not hasattr(body, \"__iter__\"): body.__iter__ = types.MethodType( __iter__, body )\n\ncdmx_raw_df = pd.read_csv(body, sep=\";\")"
        }, 
        {
            "source": "In Mexico, neighborhoods are known as \"colonies\"", 
            "cell_type": "markdown", 
            "metadata": {}
        }, 
        {
            "execution_count": null, 
            "cell_type": "code", 
            "metadata": {}, 
            "outputs": [], 
            "source": "print(\"cdmx_raw_df.dtypes:\")\nprint(cdmx_raw_df.dtypes)\n\nprint(\"cdmx_raw_df.shape:\", cdmx_raw_df.shape)\n\ncdmx_raw_df.head()"
        }, 
        {
            "source": "Displaying summary statistics for cdmx_raw_df", 
            "cell_type": "markdown", 
            "metadata": {}
        }, 
        {
            "execution_count": null, 
            "cell_type": "code", 
            "metadata": {}, 
            "outputs": [], 
            "source": "cdmx_raw_df.describe(include=\"all\")"
        }, 
        {
            "source": "Counting missing data per column of interest", 
            "cell_type": "markdown", 
            "metadata": {}
        }, 
        {
            "execution_count": null, 
            "cell_type": "code", 
            "metadata": {}, 
            "outputs": [], 
            "source": "cdmx_missing_data_df = cdmx_raw_df.isna()\n\nprint(\"COLONIA:\")\nprint(cdmx_missing_data_df[\"COLONIA\"].value_counts())\n\nprint(\"Geo Point\")\nprint(cdmx_missing_data_df[\"Geo Point\"].value_counts())\n\nprint(\"ALCALDIA:\")\nprint(cdmx_missing_data_df[\"ALCALDIA\"].value_counts())"
        }, 
        {
            "source": "Showing the rows with missing data", 
            "cell_type": "markdown", 
            "metadata": {}
        }, 
        {
            "execution_count": null, 
            "cell_type": "code", 
            "metadata": {}, 
            "outputs": [], 
            "source": "cdmx_raw_df[cdmx_missing_data_df[\"Geo Point\"]]"
        }, 
        {
            "source": "Cleaning and shaping cdmx_raw_df", 
            "cell_type": "markdown", 
            "metadata": {}
        }, 
        {
            "execution_count": null, 
            "cell_type": "code", 
            "metadata": {}, 
            "outputs": [], 
            "source": "# Removing columns of no interest\ncdmx_clean_df = cdmx_raw_df.drop([\"ENTIDAD\", \"Geo Shape\", \"CVE_ALC\", \"CVE_COL\", \"SECC_COM\", \"SECC_PAR\"], axis=1)\n\n# Creating a dictionary of translations from spanish to english for the column labels\ncolonies_column_labels_translations_es_en_dict = {\n    \"COLONIA\": \"Colony\",\n    \"ALCALDIA\": \"Borough\"\n}\n\n# Translating columns\ncdmx_clean_df = cdmx_clean_df.rename(columns=colonies_column_labels_translations_es_en_dict)\n\n# Spliting the Geo Point string to get the Latitude and Longitude strings\ncdmx_clean_df[\"Colony Latitude\"], cdmx_clean_df[\"Colony Longitude\"] = cdmx_clean_df[\"Geo Point\"].str.split(\",\").str\n\n# Casting Latitude and Longitude as floats\ncdmx_clean_df[[\"Colony Latitude\", \"Colony Longitude\"]] = cdmx_clean_df[[\"Colony Latitude\", \"Colony Longitude\"]].astype(\"float\")\n\n# Removing the Geo Point column\ncdmx_clean_df = cdmx_clean_df.drop(\"Geo Point\", axis=1)\n\n# Rearranging the columns order\ncdmx_clean_df = cdmx_clean_df.reindex(columns=[\"Borough\", \"Colony\", \"Colony Latitude\", \"Colony Longitude\"])\n\n# Since there are just 4 rows with a missing geo point, it is possible to retrieve them manually by using Google maps\ncdmx_clean_df.iloc[1037, [2, 3]] = [19.4552146, -99.1288375]\n\ncdmx_clean_df.iloc[1502, [2, 3]] = [19.182184, -99.081325]\n\ncdmx_clean_df.iloc[1619, [2, 3]] = [19.2471687, -99.0214895]\n\ncdmx_clean_df.iloc[1638, [2, 3]] = [19.273632, -99.1694116]\n\nprint(\"cdmx_clean_df.dtypes:\")\nprint(cdmx_clean_df.dtypes)\n\nprint(\"cdmx_clean_df.shape:\", cdmx_clean_df.shape)\n\ncdmx_clean_df.head()"
        }, 
        {
            "source": "Counting the number of colonies per borough", 
            "cell_type": "markdown", 
            "metadata": {}
        }, 
        {
            "execution_count": null, 
            "cell_type": "code", 
            "metadata": {}, 
            "outputs": [], 
            "source": "print(cdmx_clean_df[[\"Borough\", \"Colony\"]].groupby([\"Borough\"]).count())"
        }, 
        {
            "source": "Retrieving Cuauhtemoc's colonies", 
            "cell_type": "markdown", 
            "metadata": {}
        }, 
        {
            "execution_count": null, 
            "cell_type": "code", 
            "metadata": {
                "scrolled": false
            }, 
            "outputs": [], 
            "source": "cuauhtemoc_colonies_df = cdmx_clean_df[cdmx_clean_df[\"Borough\"] == \"CUAUHTEMOC\"].reset_index(drop=True)\n\nprint(\"cuauhtemoc_colonies_df.shape:\")\nprint(cuauhtemoc_colonies_df.shape)\n\ncuauhtemoc_colonies_df.head()"
        }, 
        {
            "source": "Defining Mexico City's location", 
            "cell_type": "markdown", 
            "metadata": {}
        }, 
        {
            "execution_count": null, 
            "cell_type": "code", 
            "metadata": {}, 
            "outputs": [], 
            "source": "cdmx_address = \"Mexico City, CDMX\"\n\ncdmx_geolocator = Nominatim(user_agent=\"cdmx_explorer\")\n\ncdmx_location = cdmx_geolocator.geocode(cdmx_address)\nprint(\"cdmx_location:\", cdmx_location)\n\ncdmx_latitude = cdmx_location.latitude\nprint(\"cdmx_latitude:\", cdmx_latitude)\n\ncdmx_longitude = cdmx_location.longitude\nprint(\"cdmx_longitude:\", cdmx_longitude)"
        }, 
        {
            "source": "Creating a map of Mexico City, showing the Cuauhtemoc's colonies", 
            "cell_type": "markdown", 
            "metadata": {}
        }, 
        {
            "execution_count": null, 
            "cell_type": "code", 
            "metadata": {
                "scrolled": false
            }, 
            "outputs": [], 
            "source": "cdmx_map = folium.Map(location=[cdmx_latitude, cdmx_longitude], zoom_start=14)\n\nfor n_borough, n_colony, n_latitude, n_longitude in zip(cuauhtemoc_colonies_df[\"Borough\"], cuauhtemoc_colonies_df[\"Colony\"], cuauhtemoc_colonies_df[\"Colony Latitude\"], cuauhtemoc_colonies_df[\"Colony Longitude\"]):\n    n_label = folium.Popup(\"{}, {}\".format(n_borough, n_colony), parse_html=True)\n    folium.CircleMarker(\n        [n_latitude, n_longitude],\n        radius=5,\n        popup=n_label,\n        color=\"blue\",\n        fill=True,\n        fill_color=\"#3186cc\",\n        fill_opacity=0.7,\n        parse_html=True\n    ).add_to(cdmx_map)\n\ncdmx_map"
        }, 
        {
            "source": "![alt text](https://raw.githubusercontent.com/iSaaC92G/Crime-Analysis-of-Mexico-City/master/images/outputs/cuauhtemoc_colonies.jpg \"Cuauhtemoc Colonies\")", 
            "cell_type": "markdown", 
            "metadata": {}
        }, 
        {
            "source": "Defining Foursquare credentials (CLIENT_ID, CLIENT_SECRET, VERSION). Hiding sensitive data", 
            "cell_type": "markdown", 
            "metadata": {}
        }, 
        {
            "execution_count": null, 
            "cell_type": "code", 
            "metadata": {}, 
            "outputs": [], 
            "source": "# The code was removed by Watson Studio for sharing."
        }, 
        {
            "source": "Testing the Foursquare Get Venue Recommendations endpoint with the first row of the Cuauhtemoc's DataFrame", 
            "cell_type": "markdown", 
            "metadata": {}
        }, 
        {
            "execution_count": null, 
            "cell_type": "code", 
            "metadata": {}, 
            "outputs": [], 
            "source": "GET_VENUE_RECOMMENDATIONS_URL = \"https://api.foursquare.com/v2/venues/explore\"\n\ndef get_foursquare_endpoint_params(client_id, client_secret, version, latitude, longitude, radius=200, limit=10):\n    \"\"\"\n    This function returns a dictionary with some of the parameters used by the Foursquare Get Venue Recommendations endpoint.\n    \"\"\"\n    return dict(\n        client_id=client_id,\n        client_secret=client_secret,\n        v=version,\n        ll=\"{},{}\".format(latitude, longitude),\n        radius=radius,\n        limit=limit\n    )\n\n# Using the location of the first colony in the cuauhtemoc_colonies_df DataFrame\nparams = get_foursquare_endpoint_params(CLIENT_ID, CLIENT_SECRET, VERSION, cuauhtemoc_colonies_df.loc[0, \"Colony Latitude\"], cuauhtemoc_colonies_df.loc[0, \"Colony Longitude\"])\n\n# Making the request to the endpoint\nresponse = requests.get(url=GET_VENUE_RECOMMENDATIONS_URL, params=params)\n\n# Retrieving the response in JSON format\ndata = json.loads(response.text)"
        }, 
        {
            "source": "Analyzing the response data", 
            "cell_type": "markdown", 
            "metadata": {}
        }, 
        {
            "execution_count": null, 
            "cell_type": "code", 
            "metadata": {
                "scrolled": false
            }, 
            "outputs": [], 
            "source": "print(\"data:\")\nprint(data)\n\n# So, the following path leads to the venues information\ndata[\"response\"][\"groups\"][0][\"items\"][0]"
        }, 
        {
            "source": "Defining a function to retrieve recommended venues around given locations", 
            "cell_type": "markdown", 
            "metadata": {}
        }, 
        {
            "execution_count": null, 
            "cell_type": "code", 
            "metadata": {
                "scrolled": false
            }, 
            "outputs": [], 
            "source": "def get_recommended_nearby_venues(names, latitudes, longitudes, radius=200, limit=10):\n    \"\"\"\n    This function returns a DataFrame of venues by iterating over 3 lists: names, latitudes, longitudes (they must be of\n    the same size!) and by making a request to the Foursquare Get Venue Recommendations endpoint for each location.\n    \"\"\"\n    venues_list = []\n    for n_name, n_latitude, n_longitude in zip(names, latitudes, longitudes):\n        n_params = get_foursquare_endpoint_params(CLIENT_ID, CLIENT_SECRET, VERSION, n_latitude, n_longitude, radius, limit)\n        n_response = requests.get(url=GET_VENUE_RECOMMENDATIONS_URL, params=n_params)\n        n_data = json.loads(n_response.text)\n        n_venues = n_data[\"response\"][\"groups\"][0][\"items\"]\n        venues_list.append([(\n            n_name,\n            n_latitude,\n            n_longitude,\n            n_venue[\"venue\"][\"name\"],\n            n_venue[\"venue\"][\"location\"][\"lat\"],\n            n_venue[\"venue\"][\"location\"][\"lng\"],\n            n_venue[\"venue\"][\"categories\"][0][\"name\"]\n        ) for n_venue in n_venues])\n    venues_df = pd.DataFrame([n_venue for venue_list in venues_list for n_venue in venue_list])\n    venues_df.columns = [\"Colony\", \"Colony Latitude\", \"Colony Longitude\", \"Venue\", \"Venue Latitude\", \"Venue Longitude\", \"Venue Category\"]\n    return venues_df"
        }, 
        {
            "source": "Retrieving the top ten recommended venues around each of the Cuauhtemoc's colonies wihtin a radius of 200 meters", 
            "cell_type": "markdown", 
            "metadata": {}
        }, 
        {
            "execution_count": null, 
            "cell_type": "code", 
            "metadata": {
                "scrolled": false
            }, 
            "outputs": [], 
            "source": "cuauhtemoc_venues_df = get_recommended_nearby_venues(cuauhtemoc_colonies_df[\"Colony\"], cuauhtemoc_colonies_df[\"Colony Latitude\"], cuauhtemoc_colonies_df[\"Colony Longitude\"], 200)\n\nprint(\"cuauhtemoc_venues_df.shape:\", cuauhtemoc_venues_df.shape)\n\ncuauhtemoc_venues_df.head()"
        }, 
        {
            "source": "Counting venues per Colony", 
            "cell_type": "markdown", 
            "metadata": {}
        }, 
        {
            "execution_count": null, 
            "cell_type": "code", 
            "metadata": {}, 
            "outputs": [], 
            "source": "number_venues_per_colony_df = cuauhtemoc_venues_df[[\"Colony\", \"Venue\"]].groupby(\"Colony\").count()\n\nnumber_venues_per_colony_df"
        }, 
        {
            "source": "Showing the distribution of the number of venues per colony", 
            "cell_type": "markdown", 
            "metadata": {}
        }, 
        {
            "execution_count": null, 
            "cell_type": "code", 
            "metadata": {}, 
            "outputs": [], 
            "source": "# number_venues_per_colony_df[[\"Venue\"]].plot(kind=\"hist\")\n\nplt.hist(number_venues_per_colony_df[\"Venue\"])\n\nplt.xlabel(\"Number of venues\")\nplt.ylabel(\"Number of colonies per number of venues\")"
        }, 
        {
            "source": "Showing the colonies with (at least) 10 points of interest", 
            "cell_type": "markdown", 
            "metadata": {}
        }, 
        {
            "execution_count": null, 
            "cell_type": "code", 
            "metadata": {}, 
            "outputs": [], 
            "source": "number_venues_per_colony_df[number_venues_per_colony_df[\"Venue\"] >= 10]"
        }, 
        {
            "source": "Creating a map of Mexico City, showing Cuauhtemoc's venus", 
            "cell_type": "markdown", 
            "metadata": {}
        }, 
        {
            "execution_count": null, 
            "cell_type": "code", 
            "metadata": {
                "scrolled": false
            }, 
            "outputs": [], 
            "source": "cuauhtemoc_venues_map = folium.Map(location=[cdmx_latitude, cdmx_longitude], zoom_start=14)\n\ncvm_cuauhtemoc_colonies_srs = cuauhtemoc_colonies_df[\"Colony\"]\n\ncvm_colors_array = cm.hsv(np.linspace(0, 1, len(cvm_cuauhtemoc_colonies_srs)))\ncvm_circle_marker_colors = [colors.rgb2hex(i) for i in cvm_colors_array]\n\nfor n_colony, n_venue, n_latitude, n_longitude in zip(cuauhtemoc_venues_df[\"Colony\"], cuauhtemoc_venues_df[\"Venue\"], cuauhtemoc_venues_df[\"Venue Latitude\"], cuauhtemoc_venues_df[\"Venue Longitude\"]):\n    n_label = folium.Popup(\"{}, {}\".format(n_colony, n_venue), parse_html=True)\n    folium.CircleMarker(\n        [n_latitude, n_longitude],\n        radius=5,\n        popup=n_label,\n        color=cvm_circle_marker_colors[cvm_cuauhtemoc_colonies_srs[cvm_cuauhtemoc_colonies_srs == n_colony].index[0]],\n        fill=True,\n        fill_color=cvm_circle_marker_colors[cvm_cuauhtemoc_colonies_srs[cvm_cuauhtemoc_colonies_srs == n_colony].index[0]],\n        fill_opacity=0.7,\n        parse_html=True\n    ).add_to(cuauhtemoc_venues_map)\n\ncuauhtemoc_venues_map"
        }, 
        {
            "source": "![alt text](https://raw.githubusercontent.com/iSaaC92G/Crime-Analysis-of-Mexico-City/master/images/outputs/top_ten_venues_per_colonies.jpg \"Top Ten Venues per Colonies\")", 
            "cell_type": "markdown", 
            "metadata": {}
        }, 
        {
            "source": "Retrieving Cuauhtemoc's 2018 crime data set as a DataFrame", 
            "cell_type": "markdown", 
            "metadata": {}
        }, 
        {
            "execution_count": null, 
            "cell_type": "code", 
            "metadata": {}, 
            "outputs": [], 
            "source": "body = client_c00e74e766a148bf886ec060f0b9c13a.get_object(Bucket='fashionproject-donotdelete-pr-mv2ccdtjv6sbh4',Key='carpetas_de_investigacion_pgj_cdmx_cuauhtemoc_2018.csv')['Body']\n# add missing __iter__ method, so pandas accepts body as file-like object\nif not hasattr(body, \"__iter__\"): body.__iter__ = types.MethodType( __iter__, body )\n\ncuauhtemoc_raw_crime_df = pd.read_csv(body, sep=\";\")"
        }, 
        {
            "execution_count": null, 
            "cell_type": "code", 
            "metadata": {
                "scrolled": false
            }, 
            "outputs": [], 
            "source": "print(\"cuauhtemoc_raw_crime_df.dtypes:\")\nprint(cuauhtemoc_raw_crime_df.dtypes)\n\nprint(\"cuauhtemoc_raw_crime_df.shape:\", cuauhtemoc_raw_crime_df.shape)\n\ncuauhtemoc_raw_crime_df.head()"
        }, 
        {
            "source": "Displaying summary statistics for cuauhtemoc_raw_crime_df", 
            "cell_type": "markdown", 
            "metadata": {}
        }, 
        {
            "execution_count": null, 
            "cell_type": "code", 
            "metadata": {
                "scrolled": false
            }, 
            "outputs": [], 
            "source": "cuauhtemoc_raw_crime_df.describe(include=\"all\")"
        }, 
        {
            "source": "Counting missing data per column of interest", 
            "cell_type": "markdown", 
            "metadata": {}
        }, 
        {
            "execution_count": null, 
            "cell_type": "code", 
            "metadata": {}, 
            "outputs": [], 
            "source": "crime_missing_data_df = cuauhtemoc_raw_crime_df.isna()\n\nprint(\"delito:\")\nprint(crime_missing_data_df[\"delito\"].value_counts())\n\nprint(\"categoria_delito:\")\nprint(crime_missing_data_df[\"categoria_delito\"].value_counts())\n\nprint(\"colonia_hechos:\")\nprint(crime_missing_data_df[\"colonia_hechos\"].value_counts())"
        }, 
        {
            "source": "Showing the rows with colony missing data", 
            "cell_type": "markdown", 
            "metadata": {}
        }, 
        {
            "execution_count": null, 
            "cell_type": "code", 
            "metadata": {
                "scrolled": false
            }, 
            "outputs": [], 
            "source": "cuauhtemoc_raw_crime_df[crime_missing_data_df[\"colonia_hechos\"]].head()"
        }, 
        {
            "source": "Cleaning and shaping cuauhtemoc_raw_crime_df", 
            "cell_type": "markdown", 
            "metadata": {}
        }, 
        {
            "execution_count": null, 
            "cell_type": "code", 
            "metadata": {
                "scrolled": false
            }, 
            "outputs": [], 
            "source": "# Removing columns of no interest\ncuauhtemoc_clean_crime_df = cuauhtemoc_raw_crime_df.drop([\"a\u00f1o_hechos\", \"mes_hechos\", \"fiscal\u00eda\", \"agencia\", \"unidad_investigacion\", \"alcaldia_hechos\", \"fecha_inicio\", \"mes_inicio\", \"ao_inicio\", \"calle_hechos\", \"calle_hechos2\", \"Geopoint\"], axis=1)\n\n# Creating a dictionary of translations from spanish to english for the column labels\ncrimes_column_labels_translations_es_en_dict = {\n    \"fecha_hechos\": \"Crime Date\",\n    \"delito\": \"Crime\",\n    \"categoria_delito\": \"Crime Category\",\n    \"colonia_hechos\": \"Crime Colony\",\n    \"longitud\": \"Crime Longitude\",\n    \"latitud\": \"Crime Latitude\"\n}\n\n# Translating columns\ncuauhtemoc_clean_crime_df = cuauhtemoc_clean_crime_df.rename(columns=crimes_column_labels_translations_es_en_dict)\n\n# Removing the rows with missing colony\ncuauhtemoc_clean_crime_df = cuauhtemoc_clean_crime_df[crime_missing_data_df[\"colonia_hechos\"] == False]\n\nprint(\"cuauhtemoc_clean_crime_df.dtypes:\")\nprint(cuauhtemoc_clean_crime_df.dtypes)\n\nprint(\"cuauhtemoc_clean_crime_df.shape:\")\nprint(cuauhtemoc_clean_crime_df.shape)\n\ncuauhtemoc_clean_crime_df.head()"
        }, 
        {
            "source": "Counting the number of unique Crime categories, Crimes and Crime colonies", 
            "cell_type": "markdown", 
            "metadata": {}
        }, 
        {
            "execution_count": null, 
            "cell_type": "code", 
            "metadata": {
                "scrolled": false
            }, 
            "outputs": [], 
            "source": "cuauhtemoc_crime_columns_df = cuauhtemoc_clean_crime_df[[\"Crime Category\", \"Crime\", \"Crime Colony\"]]\n\nprint(\"Number of unique Crime categories:\", cuauhtemoc_crime_columns_df[\"Crime Category\"].nunique())\nprint(cuauhtemoc_crime_columns_df[[\"Crime Category\", \"Crime\"]].groupby(\"Crime Category\").count())\n\n# print(\"pd.unique(cuauhtemoc_crime_columns_df[\\\"Crime Category\\\"]):\")\n# print(pd.unique(cuauhtemoc_crime_columns_df[\"Crime Category\"]))\n\nprint(\"Number of unique Crimes:\", cuauhtemoc_crime_columns_df[\"Crime\"].nunique())\nprint(cuauhtemoc_crime_columns_df[[\"Crime\", \"Crime Colony\"]].groupby(\"Crime\").count())\n\nprint(\"Number of unique Crime colonies:\", cuauhtemoc_crime_columns_df[\"Crime Colony\"].nunique())\nprint(cuauhtemoc_crime_columns_df[[\"Crime\", \"Crime Colony\"]].groupby(\"Crime Colony\").count())"
        }, 
        {
            "source": "Removing unwanted data", 
            "cell_type": "markdown", 
            "metadata": {}
        }, 
        {
            "execution_count": null, 
            "cell_type": "code", 
            "metadata": {
                "scrolled": false
            }, 
            "outputs": [], 
            "source": "# These categories are not consider a threat to tourists\ncuauhtemoc_crime_df = cuauhtemoc_clean_crime_df[cuauhtemoc_clean_crime_df[\"Crime Category\"] != \"HECHO NO DELICTIVO\"]\ncuauhtemoc_crime_df = cuauhtemoc_crime_df[cuauhtemoc_crime_df[\"Crime Category\"] != \"ROBO A REPARTIDOR CON Y SIN VIOLENCIA\"]\ncuauhtemoc_crime_df = cuauhtemoc_crime_df[cuauhtemoc_crime_df[\"Crime Category\"] != \"ROBO A TRANSPORTISTA CON Y SIN VIOLENCIA\"]\n\nprint(\"Number of unique Crime categories:\", cuauhtemoc_crime_df[\"Crime Category\"].nunique())\nprint(cuauhtemoc_crime_df[[\"Crime Category\", \"Crime\"]].groupby(\"Crime Category\").count())\n\nprint(\"Number of unique Crimes:\", cuauhtemoc_crime_df[\"Crime\"].nunique())\nprint(cuauhtemoc_crime_df[[\"Crime Category\", \"Crime\"]].groupby(\"Crime\").count())\n\nprint(\"Number of unique Crime colonies:\", cuauhtemoc_crime_df[\"Crime Colony\"].nunique())\nprint(cuauhtemoc_crime_df[[\"Crime Colony\", \"Crime Category\"]].groupby(\"Crime Colony\").count())\n\nprint(\"cuauhtemoc_crime_df.shape:\")\nprint(cuauhtemoc_crime_df.shape)\n\ncuauhtemoc_crime_df.head()"
        }, 
        {
            "source": "Transforming the cuauhtemoc_crime_df DataFrame to set Crime categories as columns", 
            "cell_type": "markdown", 
            "metadata": {}
        }, 
        {
            "execution_count": null, 
            "cell_type": "code", 
            "metadata": {}, 
            "outputs": [], 
            "source": "cuauhtemoc_crime_categories_df = pd.get_dummies(cuauhtemoc_crime_df[[\"Crime Category\"]], prefix=\"\", prefix_sep=\"\")\n\ncuauhtemoc_crime_categories_df.insert(0, \"Crime Colony\", cuauhtemoc_crime_df[\"Crime Colony\"])\n\nprint(\"cuauhtemoc_crime_categories_df.shape:\")\nprint(cuauhtemoc_crime_categories_df.shape)\n\ncuauhtemoc_crime_categories_df.head()"
        }, 
        {
            "source": "Grouping rows by Crime Colony and calculating the mean for each Crime category", 
            "cell_type": "markdown", 
            "metadata": {}
        }, 
        {
            "execution_count": null, 
            "cell_type": "code", 
            "metadata": {}, 
            "outputs": [], 
            "source": "cuauhtemoc_crime_grouped_by_colony_df = cuauhtemoc_crime_categories_df.groupby(\"Crime Colony\").mean().reset_index()\n\nprint(\"cuauhtemoc_crime_grouped_by_colony_df.shape:\")\nprint(cuauhtemoc_crime_grouped_by_colony_df.shape)\n\ncuauhtemoc_crime_grouped_by_colony_df"
        }, 
        {
            "source": "Fitting the KMeans model", 
            "cell_type": "markdown", 
            "metadata": {}
        }, 
        {
            "execution_count": null, 
            "cell_type": "code", 
            "metadata": {}, 
            "outputs": [], 
            "source": "k_clusters = 7\n\ncuauhtemoc_crime_grouped_to_cluster_df = cuauhtemoc_crime_grouped_by_colony_df.drop(\"Crime Colony\", 1)\n\nkmeans_model = KMeans(n_clusters=k_clusters, random_state=0).fit(cuauhtemoc_crime_grouped_to_cluster_df)\n\nkmeans_model.labels_"
        }, 
        {
            "source": "Creating a dictionary of labeled colonies", 
            "cell_type": "markdown", 
            "metadata": {}
        }, 
        {
            "execution_count": null, 
            "cell_type": "code", 
            "metadata": {}, 
            "outputs": [], 
            "source": "cuauhtemoc_labeled_venues_df = pd.DataFrame(data={\"Colony\": cuauhtemoc_crime_grouped_by_colony_df[\"Crime Colony\"], \"Cluster Label\": kmeans_model.labels_})\n\ncuauhtemoc_labeled_venues_df[\"Colony\"] = cuauhtemoc_labeled_venues_df[\"Colony\"].apply(lambda x: x.replace(\"AMPLIACI\u00d3N ASTURIAS\", \"ASTURIAS (AMPL)\"))\ncuauhtemoc_labeled_venues_df[\"Colony\"] = cuauhtemoc_labeled_venues_df[\"Colony\"].apply(lambda x: x.replace(\"CUAUHT\u00c9MOC\", \"CUAUHTEMOC\"))\ncuauhtemoc_labeled_venues_df[\"Colony\"] = cuauhtemoc_labeled_venues_df[\"Colony\"].apply(lambda x: x.replace(\"EX-HIP\u00d3DROMO DE PERALVILLO\", \"EX HIPODROMO DE PERALVILLO\"))\ncuauhtemoc_labeled_venues_df[\"Colony\"] = cuauhtemoc_labeled_venues_df[\"Colony\"].apply(lambda x: x.replace(\"HIP\u00d3DROMO\", \"HIPODROMO\"))\ncuauhtemoc_labeled_venues_df[\"Colony\"] = cuauhtemoc_labeled_venues_df[\"Colony\"].apply(lambda x: x.replace(\"HIP\u00d3DROMO CONDESA\", \"HIPODROMO CONDESA\"))\ncuauhtemoc_labeled_venues_df[\"Colony\"] = cuauhtemoc_labeled_venues_df[\"Colony\"].apply(lambda x: x.replace(\"JU\u00c1REZ\", \"JUAREZ\"))\ncuauhtemoc_labeled_venues_df[\"Colony\"] = cuauhtemoc_labeled_venues_df[\"Colony\"].apply(lambda x: x.replace(\"NONOALCO TLATELOLCO\", \"NONOALCO-TLATELOLCO\"))\ncuauhtemoc_labeled_venues_df[\"Colony\"] = cuauhtemoc_labeled_venues_df[\"Colony\"].apply(lambda x: x.replace(\"SAN SIM\u00d3N TOLNAHUAC\", \"SAN SIMON TOLNAHUAC\"))\ncuauhtemoc_labeled_venues_df[\"Colony\"] = cuauhtemoc_labeled_venues_df[\"Colony\"].apply(lambda x: x.replace(\"VALLE G\u00d3MEZ\", \"VALLE GOMEZ\"))\n\ncuauhtemoc_labeled_venues_dict = cuauhtemoc_labeled_venues_df.to_dict(\"split\")\n\ncuauhtemoc_labeled_venues_dict = {d[0]:d[1] for d in cuauhtemoc_labeled_venues_dict[\"data\"]}\n\ncuauhtemoc_labeled_venues_dict"
        }, 
        {
            "source": "Adding the KMeans labels to the Cuauhtemoc venues dataframe", 
            "cell_type": "markdown", 
            "metadata": {}
        }, 
        {
            "execution_count": null, 
            "cell_type": "code", 
            "metadata": {
                "scrolled": false
            }, 
            "outputs": [], 
            "source": "cuauhtemoc_venues_labeled_colonies_df = cuauhtemoc_venues_df\n\ndef get_cluster_label(colony):\n    for key, value in cuauhtemoc_labeled_venues_dict.items():\n        if colony.startswith(key):\n            return value\n\ncuauhtemoc_venues_labeled_colonies_df[\"Cluster Label\"] = cuauhtemoc_venues_labeled_colonies_df[\"Colony\"].apply(lambda x: get_cluster_label(x))\n\n# cuauhtemoc_venues_labeled_colonies_df[cuauhtemoc_venues_labeled_colonies_df.isnull().any(axis=1)]\n\ncuauhtemoc_venues_labeled_colonies_df = cuauhtemoc_venues_labeled_colonies_df.dropna()\n\ncuauhtemoc_venues_labeled_colonies_df[\"Cluster Label\"] = cuauhtemoc_venues_labeled_colonies_df[\"Cluster Label\"].astype(\"int64\")\n\nprint(\"cuauhtemoc_venues_labeled_colonies_df.shape:\")\nprint(cuauhtemoc_venues_labeled_colonies_df.shape)\n\ncuauhtemoc_venues_labeled_colonies_df"
        }, 
        {
            "source": "Creating a map of Mexito City showing Cuauhtemoc's clusterd colonies", 
            "cell_type": "markdown", 
            "metadata": {}
        }, 
        {
            "execution_count": null, 
            "cell_type": "code", 
            "metadata": {
                "scrolled": false
            }, 
            "outputs": [], 
            "source": "cuauhtemoc_clusters_map = folium.Map(location=[cdmx_latitude, cdmx_longitude], zoom_start=14)\n\ncolors_array = cm.rainbow(np.linspace(0, 0.8, k_clusters))\ncircle_marker_colors = [colors.rgb2hex(i) for i in colors_array]\n\n# print(\"circle_marker_colors:\")\n# print(circle_marker_colors)\n\nfor n_colony, n_venue, n_latitude, n_longitude, n_cluster_label in zip(cuauhtemoc_venues_labeled_colonies_df[\"Colony\"], cuauhtemoc_venues_labeled_colonies_df[\"Venue\"], cuauhtemoc_venues_labeled_colonies_df[\"Venue Latitude\"], cuauhtemoc_venues_labeled_colonies_df[\"Venue Longitude\"], cuauhtemoc_venues_labeled_colonies_df[\"Cluster Label\"]):\n    n_label = folium.Popup(\"Colony: {}, Venue: {}, Cluster: {}\".format(n_colony, n_venue, n_cluster_label), parse_html=True)\n    folium.CircleMarker(\n        [n_latitude, n_longitude],\n        radius=5,\n        popup=n_label,\n        color=circle_marker_colors[n_cluster_label],\n        fill=True,\n        fill_color=circle_marker_colors[n_cluster_label],\n        fill_opacity=1,\n        parse_html=True\n    ).add_to(cuauhtemoc_clusters_map)\n\ncuauhtemoc_clusters_map"
        }, 
        {
            "source": "![alt text](https://raw.githubusercontent.com/iSaaC92G/Crime-Analysis-of-Mexico-City/master/images/outputs/classified_top_ten_venues_per_colony.jpg \"Classified Top Ten Venues per Colony\")", 
            "cell_type": "markdown", 
            "metadata": {}
        }, 
        {
            "source": "Grouping crimes by clusters", 
            "cell_type": "markdown", 
            "metadata": {}
        }, 
        {
            "execution_count": null, 
            "cell_type": "code", 
            "metadata": {}, 
            "outputs": [], 
            "source": "cuauhtemoc_labeled_colonies_df = pd.DataFrame(data={\"Colony\": cuauhtemoc_crime_grouped_by_colony_df[\"Crime Colony\"], \"Cluster Label\": kmeans_model.labels_})\n\ncuauhtemoc_labeled_colonies_dict = cuauhtemoc_labeled_colonies_df.to_dict(\"split\")\n\ncuauhtemoc_labeled_colonies_dict = {d[0]:d[1] for d in cuauhtemoc_labeled_colonies_dict[\"data\"]}\n\nprint(cuauhtemoc_labeled_colonies_dict)\n\n\ncuauhtemoc_crime_labeled_colonies_df = cuauhtemoc_crime_df.copy()\n\ndef get_cluster_label(colony, colony_cluster_label_dict):\n    for key, value in colony_cluster_label_dict.items():\n        if colony.startswith(key):\n            return value\n\ncuauhtemoc_crime_labeled_colonies_df[\"Cluster Label\"] = cuauhtemoc_crime_labeled_colonies_df[\"Crime Colony\"].apply(lambda x: get_cluster_label(x, cuauhtemoc_labeled_colonies_dict))\n\n# cuauhtemoc_crime_labeled_colonies_df[cuauhtemoc_crime_labeled_colonies_df.isnull().any(axis=1)]\n\ncuauhtemoc_crime_labeled_colonies_df = cuauhtemoc_crime_labeled_colonies_df.dropna()\n\ncuauhtemoc_crime_labeled_colonies_df[\"Cluster Label\"] = cuauhtemoc_crime_labeled_colonies_df[\"Cluster Label\"].astype(\"int64\")\n\nprint(\"cuauhtemoc_crime_labeled_colonies_df.shape:\")\nprint(cuauhtemoc_crime_labeled_colonies_df.shape)\n\ncuauhtemoc_crime_labeled_colonies_df.head()"
        }, 
        {
            "source": "Counting the number of crimes by cluster", 
            "cell_type": "markdown", 
            "metadata": {}
        }, 
        {
            "execution_count": null, 
            "cell_type": "code", 
            "metadata": {}, 
            "outputs": [], 
            "source": "cuauhtemoc_crime_labeled_colonies_df[[\"Crime Colony\", \"Cluster Label\"]].groupby(\"Cluster Label\").count()"
        }, 
        {
            "source": "Cluster's colonies ordered by crime rates", 
            "cell_type": "markdown", 
            "metadata": {}
        }, 
        {
            "execution_count": null, 
            "cell_type": "code", 
            "metadata": {}, 
            "outputs": [], 
            "source": "cuauhtemoc_high_crime_rates_by_colony_df = cuauhtemoc_crime_labeled_colonies_df[np.logical_or(np.logical_or(cuauhtemoc_crime_labeled_colonies_df[\"Cluster Label\"] == 1, cuauhtemoc_crime_labeled_colonies_df[\"Cluster Label\"] == 3), cuauhtemoc_crime_labeled_colonies_df[\"Cluster Label\"] == 4)]\n\ncuauhtemoc_high_crime_rates_by_colony_df = cuauhtemoc_high_crime_rates_by_colony_df[[\"Crime Category\", \"Crime Colony\"]]\n\ncuauhtemoc_high_crime_rates_by_colony_df = cuauhtemoc_high_crime_rates_by_colony_df.groupby(\"Crime Colony\").count().reset_index()\n\ncuauhtemoc_high_crime_rates_by_colony_df.rename(columns={\"Crime Category\": \"Number of Crimes by Colony\"}, inplace=True)\n\ncuauhtemoc_high_crime_rates_by_colony_df.sort_values(by=[\"Number of Crimes by Colony\"], ascending=False, inplace=True)\n\ncuauhtemoc_high_crime_rates_by_colony_df.reset_index(drop=True)"
        }, 
        {
            "source": "Showing the venues found in those clusters", 
            "cell_type": "markdown", 
            "metadata": {}
        }, 
        {
            "execution_count": null, 
            "cell_type": "code", 
            "metadata": {
                "scrolled": false
            }, 
            "outputs": [], 
            "source": "clusters_with_high_crime_rates_df = cuauhtemoc_venues_labeled_colonies_df[np.logical_or(np.logical_or(cuauhtemoc_venues_labeled_colonies_df[\"Cluster Label\"] == 1, cuauhtemoc_venues_labeled_colonies_df[\"Cluster Label\"] == 3), cuauhtemoc_venues_labeled_colonies_df[\"Cluster Label\"] == 4)].reset_index()\n\nprint(\"clusters_with_high_crime_rates_df.shape:\", clusters_with_high_crime_rates_df.shape)\n\nclusters_with_high_crime_rates_df[\"Venue\"].to_list()"
        }, 
        {
            "execution_count": null, 
            "cell_type": "code", 
            "metadata": {}, 
            "outputs": [], 
            "source": ""
        }
    ], 
    "metadata": {
        "kernelspec": {
            "display_name": "Python 3.6", 
            "name": "python3", 
            "language": "python"
        }, 
        "language_info": {
            "mimetype": "text/x-python", 
            "nbconvert_exporter": "python", 
            "version": "3.6.8", 
            "name": "python", 
            "file_extension": ".py", 
            "pygments_lexer": "ipython3", 
            "codemirror_mode": {
                "version": 3, 
                "name": "ipython"
            }
        }
    }, 
    "nbformat": 4
}